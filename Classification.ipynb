{
 "cells": [
  {
   "cell_type": "markdown",
   "id": "08e0cff1-cc1a-4ee4-88d5-3df79dec85b4",
   "metadata": {},
   "source": [
    "Imports"
   ]
  },
  {
   "cell_type": "code",
   "execution_count": 56,
   "id": "9bb76f80-aa97-414a-9375-e8fd11e082c8",
   "metadata": {},
   "outputs": [],
   "source": [
    "import pandas as pd\n",
    "import numpy as np\n",
    "import re\n",
    "import nltk\n",
    "from nltk.corpus import stopwords\n",
    "from nltk.stem import WordNetLemmatizer\n",
    "\n",
    "from sklearn.model_selection import train_test_split\n",
    "from sklearn.feature_extraction.text import TfidfVectorizer\n",
    "from sklearn.metrics import accuracy_score, precision_score, recall_score, f1_score, confusion_matrix, classification_report\n",
    "\n",
    "from sklearn.linear_model import LogisticRegression\n",
    "from sklearn.ensemble import RandomForestClassifier\n",
    "from sklearn.svm import LinearSVC\n",
    "from sklearn.naive_bayes import MultinomialNB\n",
    "\n",
    "from catboost import CatBoostClassifier\n",
    "\n",
    "import seaborn as sns\n",
    "import matplotlib.pyplot as plt\n"
   ]
  },
  {
   "cell_type": "markdown",
   "id": "21635f51-9353-4d1f-ad9a-8562339d7b27",
   "metadata": {},
   "source": [
    "Load Datasets"
   ]
  },
  {
   "cell_type": "code",
   "execution_count": 57,
   "id": "8fd7a9de-9c5e-40cf-aafe-f67f31c833db",
   "metadata": {},
   "outputs": [
    {
     "name": "stdout",
     "output_type": "stream",
     "text": [
      "(5520, 5)\n",
      "(2000, 5)\n"
     ]
    },
    {
     "data": {
      "text/html": [
       "<div>\n",
       "<style scoped>\n",
       "    .dataframe tbody tr th:only-of-type {\n",
       "        vertical-align: middle;\n",
       "    }\n",
       "\n",
       "    .dataframe tbody tr th {\n",
       "        vertical-align: top;\n",
       "    }\n",
       "\n",
       "    .dataframe thead th {\n",
       "        text-align: right;\n",
       "    }\n",
       "</style>\n",
       "<table border=\"1\" class=\"dataframe\">\n",
       "  <thead>\n",
       "    <tr style=\"text-align: right;\">\n",
       "      <th></th>\n",
       "      <th>headlines</th>\n",
       "      <th>description</th>\n",
       "      <th>content</th>\n",
       "      <th>url</th>\n",
       "      <th>category</th>\n",
       "    </tr>\n",
       "  </thead>\n",
       "  <tbody>\n",
       "    <tr>\n",
       "      <th>0</th>\n",
       "      <td>RBI revises definition of politically-exposed ...</td>\n",
       "      <td>The central bank has also asked chairpersons a...</td>\n",
       "      <td>The Reserve Bank of India (RBI) has changed th...</td>\n",
       "      <td>https://indianexpress.com/article/business/ban...</td>\n",
       "      <td>business</td>\n",
       "    </tr>\n",
       "    <tr>\n",
       "      <th>1</th>\n",
       "      <td>NDTV Q2 net profit falls 57.4% to Rs 5.55 cror...</td>\n",
       "      <td>NDTV's consolidated revenue from operations wa...</td>\n",
       "      <td>Broadcaster New Delhi Television Ltd on Monday...</td>\n",
       "      <td>https://indianexpress.com/article/business/com...</td>\n",
       "      <td>business</td>\n",
       "    </tr>\n",
       "    <tr>\n",
       "      <th>2</th>\n",
       "      <td>Akasa Air ‘well capitalised’, can grow much fa...</td>\n",
       "      <td>The initial share sale will be open for public...</td>\n",
       "      <td>Homegrown server maker Netweb Technologies Ind...</td>\n",
       "      <td>https://indianexpress.com/article/business/mar...</td>\n",
       "      <td>business</td>\n",
       "    </tr>\n",
       "    <tr>\n",
       "      <th>3</th>\n",
       "      <td>India’s current account deficit declines sharp...</td>\n",
       "      <td>The current account deficit (CAD) was 3.8 per ...</td>\n",
       "      <td>India’s current account deficit declined sharp...</td>\n",
       "      <td>https://indianexpress.com/article/business/eco...</td>\n",
       "      <td>business</td>\n",
       "    </tr>\n",
       "    <tr>\n",
       "      <th>4</th>\n",
       "      <td>States borrowing cost soars to 7.68%, highest ...</td>\n",
       "      <td>The prices shot up reflecting the overall high...</td>\n",
       "      <td>States have been forced to pay through their n...</td>\n",
       "      <td>https://indianexpress.com/article/business/eco...</td>\n",
       "      <td>business</td>\n",
       "    </tr>\n",
       "  </tbody>\n",
       "</table>\n",
       "</div>"
      ],
      "text/plain": [
       "                                           headlines  \\\n",
       "0  RBI revises definition of politically-exposed ...   \n",
       "1  NDTV Q2 net profit falls 57.4% to Rs 5.55 cror...   \n",
       "2  Akasa Air ‘well capitalised’, can grow much fa...   \n",
       "3  India’s current account deficit declines sharp...   \n",
       "4  States borrowing cost soars to 7.68%, highest ...   \n",
       "\n",
       "                                         description  \\\n",
       "0  The central bank has also asked chairpersons a...   \n",
       "1  NDTV's consolidated revenue from operations wa...   \n",
       "2  The initial share sale will be open for public...   \n",
       "3  The current account deficit (CAD) was 3.8 per ...   \n",
       "4  The prices shot up reflecting the overall high...   \n",
       "\n",
       "                                             content  \\\n",
       "0  The Reserve Bank of India (RBI) has changed th...   \n",
       "1  Broadcaster New Delhi Television Ltd on Monday...   \n",
       "2  Homegrown server maker Netweb Technologies Ind...   \n",
       "3  India’s current account deficit declined sharp...   \n",
       "4  States have been forced to pay through their n...   \n",
       "\n",
       "                                                 url  category  \n",
       "0  https://indianexpress.com/article/business/ban...  business  \n",
       "1  https://indianexpress.com/article/business/com...  business  \n",
       "2  https://indianexpress.com/article/business/mar...  business  \n",
       "3  https://indianexpress.com/article/business/eco...  business  \n",
       "4  https://indianexpress.com/article/business/eco...  business  "
      ]
     },
     "execution_count": 57,
     "metadata": {},
     "output_type": "execute_result"
    }
   ],
   "source": [
    "train_df = pd.read_csv('train.csv')\n",
    "test_df = pd.read_csv('test.csv')\n",
    "\n",
    "print(train_df.shape)\n",
    "print(test_df.shape)\n",
    "train_df.head()"
   ]
  },
  {
   "cell_type": "markdown",
   "id": "0a4a02a4-b8d5-40d0-9251-5c487d5a328d",
   "metadata": {},
   "source": [
    "NLTK data"
   ]
  },
  {
   "cell_type": "code",
   "execution_count": 4,
   "id": "514cb73d-3081-408c-a033-abbe76441c22",
   "metadata": {},
   "outputs": [
    {
     "name": "stderr",
     "output_type": "stream",
     "text": [
      "[nltk_data] Downloading package stopwords to\n",
      "[nltk_data]     C:\\Users\\Millpark\\AppData\\Roaming\\nltk_data...\n",
      "[nltk_data]   Package stopwords is already up-to-date!\n",
      "[nltk_data] Downloading package wordnet to\n",
      "[nltk_data]     C:\\Users\\Millpark\\AppData\\Roaming\\nltk_data...\n",
      "[nltk_data]   Package wordnet is already up-to-date!\n"
     ]
    }
   ],
   "source": [
    "nltk.download('stopwords')\n",
    "nltk.download('wordnet')\n",
    "\n",
    "stop_words = set(stopwords.words('english'))\n",
    "lemmatizer = WordNetLemmatizer()"
   ]
  },
  {
   "cell_type": "markdown",
   "id": "1e22c1cd-e973-4575-bbc1-209e829e9110",
   "metadata": {},
   "source": [
    "Text Preprocessing"
   ]
  },
  {
   "cell_type": "code",
   "execution_count": 5,
   "id": "34daa7b2-7704-4aa0-872b-ca9a2e1ff322",
   "metadata": {},
   "outputs": [],
   "source": [
    "def clean_text(text):\n",
    "    if pd.isna(text):\n",
    "        return ''\n",
    "    text = re.sub(r'[^a-zA-Z]', ' ', text)\n",
    "    text = text.lower()\n",
    "    tokens = text.split()\n",
    "    tokens = [lemmatizer.lemmatize(w) for w in tokens if w not in stop_words]\n",
    "    return ' '.join(tokens)"
   ]
  },
  {
   "cell_type": "markdown",
   "id": "55b05490-b511-410b-852d-258ae6ad2789",
   "metadata": {},
   "source": [
    "Clean data"
   ]
  },
  {
   "cell_type": "code",
   "execution_count": 6,
   "id": "7e6eb53f-f4c4-4431-83a2-c33ef3ba120f",
   "metadata": {},
   "outputs": [],
   "source": [
    "train_df.columns = train_df.columns.str.strip().str.lower()\n",
    "test_df.columns = test_df.columns.str.strip().str.lower()"
   ]
  },
  {
   "cell_type": "code",
   "execution_count": 7,
   "id": "ef9ca0df-748b-420e-b939-91507d9254b6",
   "metadata": {},
   "outputs": [],
   "source": [
    "def combine_text_columns(df):\n",
    "    df['combined_text'] = (\n",
    "        df['headlines'].fillna('') + ' ' +\n",
    "        df['description'].fillna('') + ' ' +\n",
    "        df['content'].fillna('')\n",
    "    )\n",
    "    return df\n",
    "\n",
    "train_df = combine_text_columns(train_df)\n",
    "test_df = combine_text_columns(test_df)"
   ]
  },
  {
   "cell_type": "markdown",
   "id": "95041f38-954a-48e5-b785-62e9c9afa9e2",
   "metadata": {},
   "source": [
    "Clean text"
   ]
  },
  {
   "cell_type": "code",
   "execution_count": 8,
   "id": "e737d88d-78e8-4baf-a0ba-fb22eeb73327",
   "metadata": {},
   "outputs": [],
   "source": [
    "train_df['clean_text'] = train_df['combined_text'].apply(clean_text)\n",
    "test_df['clean_text'] = test_df['combined_text'].apply(clean_text)"
   ]
  },
  {
   "cell_type": "markdown",
   "id": "42ec94e2-f141-4583-a294-2ba4dc740705",
   "metadata": {},
   "source": [
    "Split train and test"
   ]
  },
  {
   "cell_type": "code",
   "execution_count": 9,
   "id": "37ed5851-e378-4eb1-9ed2-a43e478415dc",
   "metadata": {},
   "outputs": [],
   "source": [
    "X = train_df['clean_text']\n",
    "y = train_df['category']\n",
    "\n",
    "X_train, X_val, y_train, y_val = train_test_split(\n",
    "    X, y, test_size=0.2, random_state=42, stratify=y\n",
    ")"
   ]
  },
  {
   "cell_type": "markdown",
   "id": "815fa96a-ebae-4a92-a64e-360b36d062ab",
   "metadata": {},
   "source": [
    "Vectorization"
   ]
  },
  {
   "cell_type": "code",
   "execution_count": 59,
   "id": "47865df5-9e5a-4532-9673-b09a8a31bb0a",
   "metadata": {},
   "outputs": [],
   "source": [
    "tfidf = TfidfVectorizer(max_features=5000, ngram_range=(1,2))\n",
    "X_train_tfidf = tfidf.fit_transform(X_train)\n",
    "X_val_tfidf = tfidf.transform(X_val)"
   ]
  },
  {
   "cell_type": "markdown",
   "id": "bded9c93-8cdf-4b08-9245-280ba686812c",
   "metadata": {},
   "source": [
    "Models"
   ]
  },
  {
   "cell_type": "code",
   "execution_count": 43,
   "id": "24e9478a-e9f5-4780-85a7-99b59520af67",
   "metadata": {},
   "outputs": [],
   "source": [
    "models = {\n",
    "    \"Logistic Regression\": LogisticRegression(max_iter=2000),\n",
    "    \"Random Forest\": RandomForestClassifier(n_estimators=200, random_state=42),\n",
    "    \"Linear SVM\": LinearSVC(),\n",
    "    \"Multinomial NB\": MultinomialNB(),\n",
    "    \"CatBoost\": CatBoostClassifier(verbose=0, iterations=200, learning_rate=0.1, depth=6)\n",
    "}\n"
   ]
  },
  {
   "cell_type": "markdown",
   "id": "ca1ef66d-0016-4a5c-870b-11eeeffadc99",
   "metadata": {},
   "source": [
    "Model Training"
   ]
  },
  {
   "cell_type": "code",
   "execution_count": 44,
   "id": "4a65ae82-c3f9-4038-b2cc-7f82781c936d",
   "metadata": {},
   "outputs": [
    {
     "name": "stdout",
     "output_type": "stream",
     "text": [
      "============================================================\n",
      "Training Model: Logistic Regression\n",
      "============================================================\n",
      "\n",
      "Accuracy: 0.9864\n",
      "Precision: 0.9865\n",
      "Recall: 0.9864\n",
      "F1 Score: 0.9864\n",
      "============================================================\n",
      "Training Model: Random Forest\n",
      "============================================================\n",
      "\n",
      "Accuracy: 0.9728\n",
      "Precision: 0.9733\n",
      "Recall: 0.9728\n",
      "F1 Score: 0.9729\n",
      "============================================================\n",
      "Training Model: Linear SVM\n",
      "============================================================\n",
      "\n",
      "Accuracy: 0.9873\n",
      "Precision: 0.9873\n",
      "Recall: 0.9873\n",
      "F1 Score: 0.9873\n",
      "============================================================\n",
      "Training Model: Multinomial NB\n",
      "============================================================\n",
      "\n",
      "Accuracy: 0.9837\n",
      "Precision: 0.9837\n",
      "Recall: 0.9837\n",
      "F1 Score: 0.9837\n",
      "============================================================\n",
      "Training Model: CatBoost\n",
      "============================================================\n",
      "\n",
      "Accuracy: 0.9755\n",
      "Precision: 0.9758\n",
      "Recall: 0.9755\n",
      "F1 Score: 0.9756\n"
     ]
    }
   ],
   "source": [
    "results = []\n",
    "\n",
    "for name, model in models.items():\n",
    "    print(\"=\"*60)\n",
    "    print(f\"Training Model: {name}\")\n",
    "    print(\"=\"*60)\n",
    "    model.fit(X_train_tfidf, y_train)\n",
    "    preds = model.predict(X_val_tfidf)\n",
    "    \n",
    "    acc = accuracy_score(y_val, preds)\n",
    "    prec = precision_score(y_val, preds, average='weighted', zero_division=0)\n",
    "    rec = recall_score(y_val, preds, average='weighted', zero_division=0)\n",
    "    f1 = f1_score(y_val, preds, average='weighted', zero_division=0)\n",
    "    \n",
    "    results.append([name, acc, prec, rec, f1])\n",
    "    \n",
    "    print(f\"\\nAccuracy: {acc:.4f}\")\n",
    "    print(f\"Precision: {prec:.4f}\")\n",
    "    print(f\"Recall: {rec:.4f}\")\n",
    "    print(f\"F1 Score: {f1:.4f}\")"
   ]
  },
  {
   "cell_type": "markdown",
   "id": "399cf085-d9cd-4612-8637-79f46e7f8544",
   "metadata": {},
   "source": [
    "Confusion Matrix\n"
   ]
  },
  {
   "cell_type": "code",
   "execution_count": 45,
   "id": "9dfd4fd4-5ef0-4bfc-9c89-74570909e433",
   "metadata": {},
   "outputs": [
    {
     "data": {
      "image/png": "[encoded data removed]",
      "text/plain": [
       "<Figure size 600x400 with 2 Axes>"
      ]
     },
     "metadata": {},
     "output_type": "display_data"
    }
   ],
   "source": [
    "    plt.figure(figsize=(6, 4))\n",
    "    sns.heatmap(confusion_matrix(y_val, preds), annot=True, fmt='d', cmap='Blues')\n",
    "    plt.title(f'{name} - Confusion Matrix')\n",
    "    plt.xlabel('Predicted')\n",
    "    plt.ylabel('Actual')\n",
    "    plt.tight_layout()\n",
    "    plt.show(block=True)  "
   ]
  },
  {
   "cell_type": "code",
   "execution_count": 46,
   "id": "0333a189-c08b-4490-b731-fdaedac42240",
   "metadata": {},
   "outputs": [
    {
     "name": "stderr",
     "output_type": "stream",
     "text": [
      "C:\\Users\\Millpark\\AppData\\Local\\Temp\\ipykernel_45684\\3358351403.py:2: FutureWarning: \n",
      "\n",
      "Passing `palette` without assigning `hue` is deprecated and will be removed in v0.14.0. Assign the `x` variable to `hue` and set `legend=False` for the same effect.\n",
      "\n",
      "  sns.barplot(x='Model', y='Accuracy', data=results_df, palette='viridis')\n"
     ]
    },
    {
     "data": {
      "image/png": "[encoded data removed]",
      "text/plain": [
       "<Figure size 700x400 with 1 Axes>"
      ]
     },
     "metadata": {},
     "output_type": "display_data"
    }
   ],
   "source": [
    "plt.figure(figsize=(7, 4))\n",
    "sns.barplot(x='Model', y='Accuracy', data=results_df, palette='viridis')\n",
    "plt.title('Model Accuracy Comparison')\n",
    "plt.ylim(0, 1)\n",
    "plt.show()"
   ]
  },
  {
   "cell_type": "code",
   "execution_count": 47,
   "id": "3c6337b8-bb6c-47a1-a5d4-1ac42b296cb0",
   "metadata": {},
   "outputs": [
    {
     "name": "stdout",
     "output_type": "stream",
     "text": [
      "Length of results: 5\n",
      "Results list content: [['Logistic Regression', 0.9864130434782609, 0.9864648004559292, 0.9864130434782609, 0.9864084624434135], ['Random Forest', 0.9728260869565217, 0.973299596056421, 0.9728260869565217, 0.9728889537385017], ['Linear SVM', 0.9873188405797102, 0.9873286806593476, 0.9873188405797102, 0.987306597818665], ['Multinomial NB', 0.9836956521739131, 0.9837419693699095, 0.9836956521739131, 0.9836681079928421], ['CatBoost', 0.9755434782608695, 0.9758045088426628, 0.9755434782608695, 0.9756057740861358]]\n"
     ]
    }
   ],
   "source": [
    "print(\"Length of results:\", len(results))\n",
    "print(\"Results list content:\", results)"
   ]
  },
  {
   "cell_type": "code",
   "execution_count": 50,
   "id": "a5bdcce5-30a1-4df4-b650-4c9c26997401",
   "metadata": {},
   "outputs": [],
   "source": [
    "import joblib\n",
    "\n",
    "# Best model name (ensure proper matching)\n",
    "best_model_name = \"Linear SVM\"   # since that's the actual key in models dict\n",
    "best_model = models[best_model_name]\n",
    "\n",
    "\n",
    "\n"
   ]
  },
  {
   "cell_type": "code",
   "execution_count": 61,
   "id": "5616ed04-cd46-40c7-82f6-b0e90a6197e2",
   "metadata": {},
   "outputs": [
    {
     "name": "stdout",
     "output_type": "stream",
     "text": [
      "Validation Accuracy: 0.951\n",
      "💾 Saved as news_classifier.pkl\n"
     ]
    }
   ],
   "source": [
    "# Save model and vectorizer separately\n",
    "import pandas as pd\n",
    "from sklearn.pipeline import Pipeline\n",
    "from sklearn.feature_extraction.text import TfidfVectorizer\n",
    "from sklearn.svm import LinearSVC   # change to best model\n",
    "import joblib\n",
    "\n",
    "# Load datasets\n",
    "train_df = pd.read_csv(\"train.csv\")\n",
    "test_df = pd.read_csv(\"test.csv\")\n",
    "\n",
    "# Combine text\n",
    "train_df['text'] = train_df['headlines'].astype(str) + \" \" + train_df['description'].astype(str)\n",
    "test_df['text'] = test_df['headlines'].astype(str) + \" \" + test_df['description'].astype(str)\n",
    "\n",
    "X_train, y_train = train_df['text'], train_df['category']\n",
    "X_val, y_val = test_df['text'], test_df['category']\n",
    "\n",
    "# Build pipeline with TF-IDF + classifier\n",
    "pipeline = Pipeline([\n",
    "    (\"tfidf\", TfidfVectorizer(max_features=5000, ngram_range=(1,2), stop_words=\"english\")),\n",
    "    (\"clf\", LinearSVC())   # 👈 replace with your best model if different\n",
    "])\n",
    "\n",
    "# Train on train.csv\n",
    "pipeline.fit(X_train, y_train)\n",
    "\n",
    "# Evaluate on test.csv\n",
    "print(\"Validation Accuracy:\", pipeline.score(X_val, y_val))\n",
    "\n",
    "# Save pipeline (single file)\n",
    "joblib.dump(pipeline, \"news_classifier.pkl\")\n",
    "print(\"💾 Saved as news_classifier.pkl\")"
   ]
  },
  {
   "cell_type": "code",
   "execution_count": 65,
   "id": "1147bbe8-3203-4a63-a77f-7ad0c4c384c4",
   "metadata": {},
   "outputs": [
    {
     "name": "stdout",
     "output_type": "stream",
     "text": [
      "['sports']\n"
     ]
    }
   ],
   "source": [
    "# Save separately\n",
    "joblib.dump(tfidf, \"tfidf_vectorizer.pkl\")\n",
    "joblib.dump(best_model, \"best_model.pkl\")\n",
    "\n",
    "# Load separately\n",
    "tfidf = joblib.load(\"tfidf_vectorizer.pkl\")\n",
    "best_model = joblib.load(\"best_model.pkl\")\n",
    "\n",
    "# Transform new text using TF-IDF, then predict\n",
    "new_text = [\"Cristiano Ronaldo scores twice in Champions League match\"]\n",
    "X_new = tfidf.transform(new_text)\n",
    "print(best_model.predict(X_new))"
   ]
  },
  {
   "cell_type": "code",
   "execution_count": 63,
   "id": "3c2ee66b-26a2-45f8-879b-7d7e9a7d77a6",
   "metadata": {},
   "outputs": [
    {
     "data": {
      "text/plain": [
       "['tfidf_vectorizer.pkl']"
      ]
     },
     "execution_count": 63,
     "metadata": {},
     "output_type": "execute_result"
    }
   ],
   "source": [
    "import joblib\n",
    "joblib.dump(tfidf, \"tfidf_vectorizer.pkl\")"
   ]
  },
  {
   "cell_type": "markdown",
   "id": "1ee25e80-e967-44d3-81a1-202ca0a5fb85",
   "metadata": {},
   "source": [
    "Summary"
   ]
  },
  {
   "cell_type": "code",
   "execution_count": 39,
   "id": "86b10579-eb84-46c7-bb8b-692a0b8b1088",
   "metadata": {},
   "outputs": [
    {
     "name": "stdout",
     "output_type": "stream",
     "text": [
      "\n",
      "\n",
      "=========== MODEL COMPARISON SUMMARY ===========\n",
      "\n",
      "                 Model  Accuracy  Precision    Recall  F1-Score\n",
      "3                  SVM  0.987319   0.987329  0.987319  0.987307\n",
      "1  Logistic Regression  0.986413   0.986465  0.986413  0.986408\n",
      "0        MultinomialNB  0.983696   0.983742  0.983696  0.983668\n",
      "2        Random Forest  0.972826   0.973300  0.972826  0.972889\n"
     ]
    }
   ],
   "source": [
    "results_df = pd.DataFrame(results, columns=['Model', 'Accuracy', 'Precision', 'Recall', 'F1-Score'])\n",
    "results_df = results_df.sort_values(by='F1-Score', ascending=False)\n",
    "print(\"\\n\\n=========== MODEL COMPARISON SUMMARY ===========\\n\")\n",
    "print(results_df)"
   ]
  },
  {
   "cell_type": "markdown",
   "id": "09f9a40a-2e5d-4c32-868d-5bbfb9e23b0e",
   "metadata": {},
   "source": [
    "STREAMLIT"
   ]
  },
  {
   "cell_type": "code",
   "execution_count": 68,
   "id": "35e397a3-6af9-475a-9765-8b845ce39059",
   "metadata": {},
   "outputs": [],
   "source": [
    "pipeline = joblib.load(\"news_classifier.pkl\")\n",
    "prediction = pipeline.predict([user_input])[0]"
   ]
  },
  {
   "cell_type": "code",
   "execution_count": null,
   "id": "5c97db16-51ed-411f-b5d5-65059bd22bae",
   "metadata": {},
   "outputs": [],
   "source": []
  }
 ],
 "metadata": {
  "kernelspec": {
   "display_name": "Python 3 (ipykernel)",
   "language": "python",
   "name": "python3"
  },
  "language_info": {
   "codemirror_mode": {
    "name": "ipython",
    "version": 3
   },
   "file_extension": ".py",
   "mimetype": "text/x-python",
   "name": "python",
   "nbconvert_exporter": "python",
   "pygments_lexer": "ipython3",
   "version": "3.13.2"
  }
 },
 "nbformat": 4,
 "nbformat_minor": 5
}
